{
  "nbformat": 4,
  "nbformat_minor": 0,
  "metadata": {
    "colab": {
      "name": "Self Organizing Maps",
      "provenance": [],
      "collapsed_sections": [],
      "toc_visible": true,
      "include_colab_link": true
    },
    "kernelspec": {
      "display_name": "Python 3",
      "name": "python3"
    }
  },
  "cells": [
    {
      "cell_type": "markdown",
      "metadata": {
        "id": "view-in-github",
        "colab_type": "text"
      },
      "source": [
        "<a href=\"https://colab.research.google.com/github/sriraj934/Australian-Credit-Approval/blob/main/Self_Organizing_Maps.ipynb\" target=\"_parent\"><img src=\"https://colab.research.google.com/assets/colab-badge.svg\" alt=\"Open In Colab\"/></a>"
      ]
    },
    {
      "cell_type": "markdown",
      "metadata": {
        "id": "Tk75NBUdmu5i"
      },
      "source": [
        "## SOM "
      ]
    },
    {
      "cell_type": "markdown",
      "metadata": {
        "id": "vrrm04y9m6Oe"
      },
      "source": [
        "installing respective package"
      ]
    },
    {
      "cell_type": "code",
      "metadata": {
        "colab": {
          "base_uri": "https://localhost:8080/"
        },
        "id": "goOvTgF1mx-K",
        "outputId": "97fc14c5-ee9f-4795-c5df-888adf13f192"
      },
      "source": [
        "!pip install MiniSom"
      ],
      "execution_count": 1,
      "outputs": [
        {
          "output_type": "stream",
          "text": [
            "Collecting MiniSom\n",
            "  Downloading https://files.pythonhosted.org/packages/69/3c/a5ad0d36137285cdffdd5cad105ec2eb3c3ddfbd3254a324993ab51d3401/MiniSom-2.2.7.tar.gz\n",
            "Building wheels for collected packages: MiniSom\n",
            "  Building wheel for MiniSom (setup.py) ... \u001b[?25l\u001b[?25hdone\n",
            "  Created wheel for MiniSom: filename=MiniSom-2.2.7-cp36-none-any.whl size=8607 sha256=65388e55626897d34cdb9b67190f56e2e5211c2a2f7d70e26b7e6cc34ad7e6bf\n",
            "  Stored in directory: /root/.cache/pip/wheels/db/9a/af/0fca4ced67fec66c00998c4bf55b13f0a4c882ee775f278862\n",
            "Successfully built MiniSom\n",
            "Installing collected packages: MiniSom\n",
            "Successfully installed MiniSom-2.2.7\n"
          ],
          "name": "stdout"
        }
      ]
    },
    {
      "cell_type": "markdown",
      "metadata": {
        "id": "pKn0xMwom_Uc"
      },
      "source": [
        "Importing the Libraries"
      ]
    },
    {
      "cell_type": "code",
      "metadata": {
        "id": "WnTsTICYnDce"
      },
      "source": [
        "import numpy as np\r\n",
        "import pandas as pd\r\n",
        "import matplotlib.pyplot as plt"
      ],
      "execution_count": 2,
      "outputs": []
    },
    {
      "cell_type": "markdown",
      "metadata": {
        "id": "VMBvd_HHpkha"
      },
      "source": [
        "Importing the dataset"
      ]
    },
    {
      "cell_type": "code",
      "metadata": {
        "id": "8sDp1N8AnLUP"
      },
      "source": [
        "dataset = pd.read_csv('Credit_Card_Applications.csv')\r\n",
        "X = dataset.iloc[:,:-1].values\r\n",
        "y = dataset.iloc[:,-1].values"
      ],
      "execution_count": 3,
      "outputs": []
    },
    {
      "cell_type": "code",
      "metadata": {
        "colab": {
          "base_uri": "https://localhost:8080/"
        },
        "id": "k93ZBRv5p0pS",
        "outputId": "bbb9a10e-efcc-4e9f-89cc-6f6d085238be"
      },
      "source": [
        "print(X)"
      ],
      "execution_count": 4,
      "outputs": [
        {
          "output_type": "stream",
          "text": [
            "[[1.5776156e+07 1.0000000e+00 2.2080000e+01 ... 2.0000000e+00\n",
            "  1.0000000e+02 1.2130000e+03]\n",
            " [1.5739548e+07 0.0000000e+00 2.2670000e+01 ... 2.0000000e+00\n",
            "  1.6000000e+02 1.0000000e+00]\n",
            " [1.5662854e+07 0.0000000e+00 2.9580000e+01 ... 2.0000000e+00\n",
            "  2.8000000e+02 1.0000000e+00]\n",
            " ...\n",
            " [1.5675450e+07 0.0000000e+00 1.8830000e+01 ... 2.0000000e+00\n",
            "  1.0000000e+02 1.0000000e+00]\n",
            " [1.5776494e+07 0.0000000e+00 2.7420000e+01 ... 2.0000000e+00\n",
            "  1.2000000e+02 1.2000000e+01]\n",
            " [1.5592412e+07 1.0000000e+00 4.1000000e+01 ... 1.0000000e+00\n",
            "  5.6000000e+02 1.0000000e+00]]\n"
          ],
          "name": "stdout"
        }
      ]
    },
    {
      "cell_type": "code",
      "metadata": {
        "colab": {
          "base_uri": "https://localhost:8080/"
        },
        "id": "YJifIhf7p1-Y",
        "outputId": "bfdd445c-39b0-4f28-a524-364bf07283fc"
      },
      "source": [
        "print(y)"
      ],
      "execution_count": 5,
      "outputs": [
        {
          "output_type": "stream",
          "text": [
            "[0 0 0 1 1 1 0 1 0 0 1 1 0 1 0 1 1 1 0 1 0 0 0 0 0 1 0 1 1 1 1 0 0 1 0 0 1\n",
            " 1 1 1 1 0 1 0 0 1 0 1 0 1 0 0 0 0 0 1 1 0 1 1 0 0 1 0 1 1 0 0 0 1 0 0 0 1\n",
            " 1 0 0 0 0 1 1 0 0 0 0 1 0 1 1 0 0 0 0 1 0 1 0 0 0 1 0 1 1 1 0 1 1 0 1 0 0\n",
            " 0 0 1 0 1 1 1 1 1 1 0 0 1 1 0 1 0 1 1 1 0 0 0 0 0 0 1 1 1 0 0 0 1 0 1 1 0\n",
            " 0 1 1 0 0 0 1 1 1 0 1 0 0 0 1 1 0 0 0 1 0 0 0 1 0 0 1 0 0 0 1 1 0 0 1 1 1\n",
            " 0 0 0 0 0 0 1 0 0 0 1 1 0 0 0 1 0 1 0 1 1 0 0 0 0 1 1 0 0 0 1 0 0 0 1 1 0\n",
            " 1 0 0 0 0 1 1 1 1 0 0 1 1 1 0 0 0 1 1 1 1 0 0 0 0 1 1 1 0 0 1 0 1 1 1 1 0\n",
            " 0 0 1 0 1 1 0 0 1 0 0 0 1 0 1 1 0 0 0 1 1 0 0 0 0 0 1 1 1 0 0 0 0 1 1 1 0\n",
            " 0 0 1 0 1 0 0 0 0 1 0 1 0 0 0 0 0 1 1 0 0 1 0 1 1 1 1 1 1 1 0 0 0 0 1 1 1\n",
            " 0 0 0 1 0 1 0 0 0 1 1 1 1 1 1 1 0 1 0 1 0 0 0 0 0 1 0 1 1 0 0 0 0 0 1 0 1\n",
            " 1 0 0 0 1 1 1 0 0 1 1 0 0 0 1 1 0 1 1 1 1 0 0 1 1 0 0 0 0 0 0 1 0 0 0 1 1\n",
            " 0 1 0 0 0 1 1 1 0 0 1 0 1 1 1 0 1 0 0 1 0 0 0 1 0 0 1 0 1 0 1 1 0 1 0 0 1\n",
            " 0 1 1 0 0 0 0 0 1 1 0 0 1 1 0 1 0 1 0 1 0 1 1 0 1 0 1 1 1 0 0 0 0 0 1 0 1\n",
            " 0 0 0 1 1 1 1 1 0 1 1 0 0 0 1 1 1 1 1 1 0 1 1 1 1 0 0 0 0 0 0 0 1 0 0 1 1\n",
            " 1 0 1 0 0 1 1 0 1 0 0 0 0 0 0 1 0 1 0 1 1 1 0 0 1 0 0 0 0 0 0 0 1 1 0 0 0\n",
            " 0 0 1 0 1 0 1 0 0 1 1 1 0 0 0 0 0 1 0 1 1 0 0 0 0 0 1 1 1 0 1 0 1 1 0 0 1\n",
            " 0 1 0 0 1 1 0 1 0 1 1 1 1 0 0 1 0 1 1 0 1 0 1 1 0 0 0 1 0 1 1 0 1 0 0 0 0\n",
            " 0 1 0 1 0 0 0 0 0 0 1 0 1 1 0 0 0 0 0 0 1 1 0 0 1 0 0 1 0 0 1 1 0 1 1 0 0\n",
            " 0 0 0 0 1 1 0 1 1 0 0 0 0 1 0 0 1 0 1 1 0 1 1 1]\n"
          ],
          "name": "stdout"
        }
      ]
    },
    {
      "cell_type": "markdown",
      "metadata": {
        "id": "X6zCiiGnrSkp"
      },
      "source": [
        "Feature Scale"
      ]
    },
    {
      "cell_type": "code",
      "metadata": {
        "id": "AwJ3Ga3UqAbC"
      },
      "source": [
        "from sklearn.preprocessing import MinMaxScaler\r\n",
        "sc = MinMaxScaler(feature_range = (0,1))\r\n",
        "X = sc.fit_transform(X)"
      ],
      "execution_count": 6,
      "outputs": []
    },
    {
      "cell_type": "code",
      "metadata": {
        "colab": {
          "base_uri": "https://localhost:8080/"
        },
        "id": "3WE1Fx81rHkR",
        "outputId": "e2ea4371-3101-4f1c-9664-c295a651ad23"
      },
      "source": [
        "print(X)"
      ],
      "execution_count": 7,
      "outputs": [
        {
          "output_type": "stream",
          "text": [
            "[[8.42681467e-01 1.00000000e+00 1.25263158e-01 ... 5.00000000e-01\n",
            "  5.00000000e-02 1.21200000e-02]\n",
            " [6.96090562e-01 0.00000000e+00 1.34135338e-01 ... 5.00000000e-01\n",
            "  8.00000000e-02 0.00000000e+00]\n",
            " [3.88981656e-01 0.00000000e+00 2.38045113e-01 ... 5.00000000e-01\n",
            "  1.40000000e-01 0.00000000e+00]\n",
            " ...\n",
            " [4.39420332e-01 0.00000000e+00 7.63909774e-02 ... 5.00000000e-01\n",
            "  5.00000000e-02 0.00000000e+00]\n",
            " [8.44034934e-01 0.00000000e+00 2.05563910e-01 ... 5.00000000e-01\n",
            "  6.00000000e-02 1.10000000e-04]\n",
            " [1.06907888e-01 1.00000000e+00 4.09774436e-01 ... 0.00000000e+00\n",
            "  2.80000000e-01 0.00000000e+00]]\n"
          ],
          "name": "stdout"
        }
      ]
    },
    {
      "cell_type": "markdown",
      "metadata": {
        "id": "Q40WVwwTv2T9"
      },
      "source": [
        "Training the Model"
      ]
    },
    {
      "cell_type": "code",
      "metadata": {
        "id": "Vu5sTsLnv42L"
      },
      "source": [
        "from minisom import MiniSom\r\n",
        "som = MiniSom(x = 10,y=10,input_len=15,sigma=1.0,learning_rate=0.5)\r\n",
        "som.random_weights_init(X)\r\n",
        "som.train_random(data = X,num_iteration=100)"
      ],
      "execution_count": 8,
      "outputs": []
    },
    {
      "cell_type": "markdown",
      "metadata": {
        "id": "VxjsZUJ6wdTz"
      },
      "source": [
        "Visualizing the Result"
      ]
    },
    {
      "cell_type": "code",
      "metadata": {
        "colab": {
          "base_uri": "https://localhost:8080/",
          "height": 269
        },
        "id": "i0iW2_NwRg0K",
        "outputId": "5af4c41c-e8ea-491f-9ee0-14c3066431c6"
      },
      "source": [
        "from pylab import bone,pcolor,colorbar,plot,show\r\n",
        "bone()\r\n",
        "pcolor(som.distance_map().T)\r\n",
        "colorbar()\r\n",
        "markers = ['o','s']\r\n",
        "colors = ['r','g']\r\n",
        "for i,x in enumerate(X):\r\n",
        "  w = som.winner(x)\r\n",
        "  plot(w[0]+0.5,\r\n",
        "       w[1]+0.5,\r\n",
        "       markers[y[i]],\r\n",
        "       markeredgecolor = colors[y[i]],\r\n",
        "       markerfacecolor = 'None',\r\n",
        "       markersize = 10,\r\n",
        "      markeredgewidth = 2)\r\n",
        "show()"
      ],
      "execution_count": 9,
      "outputs": [
        {
          "output_type": "display_data",
          "data": {
            "image/png": "[encoded data removed]",
            "text/plain": [
              "<Figure size 432x288 with 2 Axes>"
            ]
          },
          "metadata": {
            "tags": [],
            "needs_background": "light"
          }
        }
      ]
    },
    {
      "cell_type": "markdown",
      "metadata": {
        "id": "ub_UXj5Wd9Ps"
      },
      "source": [
        "Finding the Fraud customer"
      ]
    },
    {
      "cell_type": "code",
      "metadata": {
        "id": "hlMRFTtDcXx6"
      },
      "source": [
        "mappings = som.win_map(X)\r\n",
        "fraud = np.concatenate((mappings[(1,1)],mappings[(2,1)],mappings[(1,8)]),axis = 0)\r\n",
        "fraud = sc.inverse_transform(fraud)"
      ],
      "execution_count": 14,
      "outputs": []
    },
    {
      "cell_type": "code",
      "metadata": {
        "colab": {
          "base_uri": "https://localhost:8080/"
        },
        "id": "7bj03owCdfeV",
        "outputId": "98ddc5e2-f0e3-4f8c-944c-748e8c85b84c"
      },
      "source": [
        "print(\"Fraud Customers Id is :\")\r\n",
        "for i in fraud[:,0]:\r\n",
        "  print(int(i))"
      ],
      "execution_count": 13,
      "outputs": [
        {
          "output_type": "stream",
          "text": [
            "Fraud Customers Id is :\n",
            "15813718\n",
            "15815271\n",
            "15744273\n",
            "15773934\n",
            "15570990\n",
            "15694237\n",
            "15805627\n",
            "15692718\n",
            "15789865\n",
            "15618703\n",
            "15757933\n",
            "15677395\n",
            "15810716\n",
            "15780088\n",
            "15750921\n",
            "15728010\n",
            "15706394\n",
            "15796813\n",
            "15631685\n",
            "15753591\n",
            "15649379\n",
            "15797246\n",
            "15800773\n",
            "15729771\n",
            "15609823\n",
            "15614813\n",
            "15701687\n",
            "15706268\n",
            "15653147\n",
            "15735572\n",
            "15751167\n",
            "15778142\n",
            "15721507\n",
            "15802106\n",
            "15625501\n",
            "15812918\n",
            "15715519\n",
            "15630592\n",
            "15636562\n",
            "15711249\n",
            "15812766\n",
            "15784526\n",
            "15687765\n",
            "15589541\n",
            "15757306\n",
            "15700046\n",
            "15598574\n",
            "15769356\n",
            "15711759\n",
            "15665181\n",
            "15808223\n"
          ],
          "name": "stdout"
        }
      ]
    }
  ]
}